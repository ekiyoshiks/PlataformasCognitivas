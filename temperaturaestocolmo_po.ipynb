{
  "nbformat": 4,
  "nbformat_minor": 0,
  "metadata": {
    "colab": {
      "provenance": []
    },
    "kernelspec": {
      "name": "python3",
      "display_name": "Python 3"
    },
    "language_info": {
      "name": "python"
    }
  },
  "cells": [
    {
      "cell_type": "code",
      "execution_count": null,
      "metadata": {
        "colab": {
          "base_uri": "https://localhost:8080/"
        },
        "id": "ptimleAaJGS0",
        "outputId": "479a218d-90c5-4aea-d54f-4465f609619d"
      },
      "outputs": [
        {
          "output_type": "stream",
          "name": "stdout",
          "text": [
            "A cidade de Estocolmo, capital da Suécia, está agora com um céu limpo e uma temperatura de 12.06 °C.\n",
            "Curiosidade: A cidade de Estocolmo tem um clima continental. Devido à latitude da capital sueca, o clima deveria ser mais frio, no entanto é ameno devido à influência da Corrente do Golfo. A duração do dia, em média, varia entre 18 horas, no Verão, e 6 horas no Inverno, sendo que a cidade desfruta de 1821 horas de sol anualmente.\n"
          ]
        }
      ],
      "source": [
        "import requests\n",
        "x = requests.get('https://api.openweathermap.org/data/2.5/weather?lat=59.334591&lon=18.063240&appid=a1696294659d66073959006f92576693&units=metric&lang=pt')\n",
        "z = x.json()\n",
        "print('A cidade de Estocolmo, capital da Suécia, está agora com um', z['weather'][0]['description'], 'e uma temperatura de', z['main']['temp'], '°C.' )\n",
        "print('Curiosidade: A cidade de Estocolmo tem um clima continental. Devido à latitude da capital sueca, o clima deveria ser mais frio, no entanto é ameno devido à influência da Corrente do Golfo. A duração do dia, em média, varia entre 18 horas, no Verão, e 6 horas no Inverno, sendo que a cidade desfruta de 1821 horas de sol anualmente.')"
      ]
    },
    {
      "cell_type": "code",
      "source": [],
      "metadata": {
        "id": "6V6zdPDQJs7J"
      },
      "execution_count": null,
      "outputs": []
    }
  ]
}